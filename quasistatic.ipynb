{
 "cells": [
  {
   "cell_type": "markdown",
   "id": "cc68b77b-aae0-4c91-b292-8e7bd4b7332d",
   "metadata": {
    "tags": []
   },
   "source": [
    "# Quasistatic Example\n",
    "\n",
    "What goes here:\n",
    "\n",
    "* Text description of the problem\n",
    "* Diagram of problem, identifying materials, boundary conditions, etc.\n",
    "\n",
    "Normally, an example goes through the following steps:\n",
    "\n",
    "1. Create the finite-element mesh.\n",
    "2. Generate the spatial database files with values for the boundary conditions, materials, etc.\n",
    "3. Setup the simulation parameter file.\n",
    "4. Run the simulation.\n",
    "5. Visualize the results.\n",
    "\n",
    "## Simulation Setup\n",
    "\n",
    "We first create the top-level PyLith application object and set the author and description of the simulation."
   ]
  },
  {
   "cell_type": "code",
   "execution_count": 1,
   "id": "e7a29f7e-a4da-4153-924d-3198db6d8b2d",
   "metadata": {
    "tags": []
   },
   "outputs": [],
   "source": [
    "from PyLithApp import PyLithApp\n",
    "app = PyLithApp()\n",
    "app.metadata.author = \"Brad Aagaard\"\n",
    "app.metadata.description = \"Quasitatic simulation of axial compression of an elastic block using Dirichlet boundary conditions.\""
   ]
  },
  {
   "cell_type": "markdown",
   "id": "a825beee-2911-47f6-b1ad-29356bff9322",
   "metadata": {},
   "source": [
    "### Create problem\n",
    "\n",
    "We create a single time-dependent problem with the name 'quasiststic' and set the end time to 10 seconds with a time step of 2 seconds."
   ]
  },
  {
   "cell_type": "code",
   "execution_count": 2,
   "id": "bca21d17-4a7c-4122-839d-2b7234c08860",
   "metadata": {},
   "outputs": [
    {
     "name": "stdout",
     "output_type": "stream",
     "text": [
      "quasistatic:\n",
      "  start_time:\n",
      "    schema: dimensional\n",
      "    value: 0.0*s\n",
      "    default: 0.0*s\n",
      "    tip: Problem start time.\n",
      "  end_time:\n",
      "    schema: dimensional\n",
      "    value: 10.0*s\n",
      "    default: 10.0*s\n",
      "    tip: Problem end time.\n",
      "  time_step:\n",
      "    schema: dimensional\n",
      "    value: 2.0*s\n",
      "    default: 1.0*s\n",
      "    tip: Initial time step for solve.\n",
      "  materials:\n",
      "    schema: list\n",
      "    value: []\n",
      "    default: []\n",
      "    tip: Materials in problem.\n",
      "  boundary_conditions:\n",
      "    schema: list\n",
      "    value: []\n",
      "    default: []\n",
      "    tip: Boundary conditions\n"
     ]
    }
   ],
   "source": [
    "from TimeDependent import TimeDependent\n",
    "from pyre.units.time import second\n",
    "\n",
    "problem = TimeDependent(name=\"quasistatic\")\n",
    "problem.end_time = 10.0*second\n",
    "problem.time_step = 2.0*second\n",
    "app.problems = [problem]\n",
    "\n",
    "# Show problem configuration\n",
    "print(\"\\n\".join(list(problem.pyre_showConfiguration())))"
   ]
  },
  {
   "cell_type": "markdown",
   "id": "8c809e1f-0778-460c-9bcf-580893a8cf36",
   "metadata": {},
   "source": [
    "### Create material\n",
    "\n",
    "Our problem involves a single, linearly elastic material with the name 'block' with an S wave speed of 1.5 km/s and a P wave speed of sqrt(3)*1.5 km/s."
   ]
  },
  {
   "cell_type": "code",
   "execution_count": 3,
   "id": "de36c2bd-ba6c-49a1-a590-546f20079922",
   "metadata": {},
   "outputs": [
    {
     "name": "stdout",
     "output_type": "stream",
     "text": [
      "block:\n",
      "  observer:\n",
      "    schema: pylith.observers\n",
      "    value: component 'block.observer', an instance of 'pylith.observers.solution'\n",
      "    default: <bound method Observer.pyre_default of <class 'ObserverInjector.Observer'>>\n",
      "    tip: Observer of material state.\n",
      "    configuration:\n",
      "      block.observer:\n",
      "  density:\n",
      "    schema: dimensional\n",
      "    value: 3000.0*kg*m**-3\n",
      "    default: 3000.0*kg*m**-3\n",
      "    tip: Mass density.\n",
      "  vp:\n",
      "    schema: dimensional\n",
      "    value: 2598.076211353316*m*s**-1\n",
      "    default: 5200.0*m*s**-1\n",
      "    tip: P wave speed.\n",
      "  vs:\n",
      "    schema: dimensional\n",
      "    value: 1500.0*m*s**-1\n",
      "    default: 3000.0*m*s**-1\n",
      "    tip: S wave speed.\n"
     ]
    }
   ],
   "source": [
    "from Material import Elasticity\n",
    "from pyre.units.length import km\n",
    "from pyre.units.time import second\n",
    "\n",
    "block = Elasticity(name=\"block\")\n",
    "block.vs = 1.5*km/second\n",
    "block.vp = 3**0.5 * block.vs\n",
    "problem.materials = [block]\n",
    "\n",
    "# Show block configuration\n",
    "print(\"\\n\".join(list(block.pyre_showConfiguration())))"
   ]
  },
  {
   "cell_type": "markdown",
   "id": "fd6a5cc3-4b3c-4e47-9178-c7009cecb94e",
   "metadata": {},
   "source": [
    "### Verify parameters\n",
    "\n",
    "Dump all parameters to a `.cfg` file for manual review."
   ]
  },
  {
   "cell_type": "code",
   "execution_count": 4,
   "id": "f724f1d3-3c91-48db-a612-bf13cd8fc14e",
   "metadata": {},
   "outputs": [],
   "source": [
    "# How do we dump all parameters to a .cfg file."
   ]
  },
  {
   "cell_type": "markdown",
   "id": "c063bd57-fea7-4247-9a9b-58146d4258e2",
   "metadata": {},
   "source": [
    "### Run the simulation"
   ]
  },
  {
   "cell_type": "code",
   "execution_count": 5,
   "id": "e41182b7-da99-4ce7-a95d-71a3af07e3ff",
   "metadata": {},
   "outputs": [
    {
     "name": "stdout",
     "output_type": "stream",
     "text": [
      "Simulation Metadata\n",
      "  Author: Brad Aagaard\n",
      "  Description: Quasitatic simulation of axial compression of an elastic block using Dirichlet boundary conditions.\n",
      "\n",
      "quasistatic:\n",
      "  start_time:\n",
      "    schema: dimensional\n",
      "    value: 0.0*s\n",
      "    default: 0.0*s\n",
      "    tip: Problem start time.\n",
      "  end_time:\n",
      "    schema: dimensional\n",
      "    value: 10.0*s\n",
      "    default: 10.0*s\n",
      "    tip: Problem end time.\n",
      "  time_step:\n",
      "    schema: dimensional\n",
      "    value: 2.0*s\n",
      "    default: 1.0*s\n",
      "    tip: Initial time step for solve.\n",
      "  materials:\n",
      "    schema: list\n",
      "    value: [<Material.Elasticity object at 0x1110d0880>]\n",
      "    default: []\n",
      "    tip: Materials in problem.\n",
      "  boundary_conditions:\n",
      "    schema: list\n",
      "    value: []\n",
      "    default: []\n",
      "    tip: Boundary conditions\n",
      "Elasticity material 'block'\n",
      "block:\n",
      "  observer:\n",
      "    schema: pylith.observers\n",
      "    value: component 'block.observer', an instance of 'pylith.observers.solution'\n",
      "    default: <bound method Observer.pyre_default of <class 'ObserverInjector.Observer'>>\n",
      "    tip: Observer of material state.\n",
      "    configuration:\n",
      "      block.observer:\n",
      "  density:\n",
      "    schema: dimensional\n",
      "    value: 3000.0*kg*m**-3\n",
      "    default: 3000.0*kg*m**-3\n",
      "    tip: Mass density.\n",
      "  vp:\n",
      "    schema: dimensional\n",
      "    value: 2598.076211353316*m*s**-1\n",
      "    default: 5200.0*m*s**-1\n",
      "    tip: P wave speed.\n",
      "  vs:\n",
      "    schema: dimensional\n",
      "    value: 1500.0*m*s**-1\n",
      "    default: 3000.0*m*s**-1\n",
      "    tip: S wave speed.\n",
      "t=0.0*s\n",
      "Computing state for elasticity material 'block'...\n",
      "t=2.0*s\n",
      "Computing state for elasticity material 'block'...\n",
      "t=4.0*s\n",
      "Computing state for elasticity material 'block'...\n",
      "t=6.0*s\n",
      "Computing state for elasticity material 'block'...\n",
      "t=8.0*s\n",
      "Computing state for elasticity material 'block'...\n",
      "t=10.0*s\n",
      "Computing state for elasticity material 'block'...\n",
      "Solution observer 'block.observer' t=12.0*s.\n"
     ]
    }
   ],
   "source": [
    "status = app.run()"
   ]
  },
  {
   "cell_type": "code",
   "execution_count": null,
   "id": "22cb1afc-3a75-462c-a41e-caaa7a0472d3",
   "metadata": {},
   "outputs": [],
   "source": []
  }
 ],
 "metadata": {
  "kernelspec": {
   "display_name": "Python 3 (ipykernel)",
   "language": "python",
   "name": "python3"
  },
  "language_info": {
   "codemirror_mode": {
    "name": "ipython",
    "version": 3
   },
   "file_extension": ".py",
   "mimetype": "text/x-python",
   "name": "python",
   "nbconvert_exporter": "python",
   "pygments_lexer": "ipython3",
   "version": "3.9.7"
  }
 },
 "nbformat": 4,
 "nbformat_minor": 5
}
